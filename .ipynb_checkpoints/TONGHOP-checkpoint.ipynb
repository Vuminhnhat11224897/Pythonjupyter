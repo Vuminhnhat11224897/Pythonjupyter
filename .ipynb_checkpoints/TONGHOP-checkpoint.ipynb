{
 "cells": [
  {
   "cell_type": "markdown",
   "id": "4a244440",
   "metadata": {},
   "source": [
    "### Full name : Vũ Minh Nhật\n",
    "### Student ID : 11224897\n",
    "### Class: DSEB 64A\n"
   ]
  },
  {
   "cell_type": "code",
   "execution_count": 2,
   "id": "a0c1bea4",
   "metadata": {},
   "outputs": [
    {
     "name": "stdout",
     "output_type": "stream",
     "text": [
      "Twinkle, twinkle, little star,\n",
      "              How I wonder what you are!\n",
      "                      Up above the world so high,.\n",
      "                      Like a diamond in the sky.\n",
      "Twinkle, twinkle, little star,\n",
      "             How I wonder what you are\n"
     ]
    }
   ],
   "source": [
    "#BAI2\n",
    "print(\"Twinkle, twinkle, little star,\")\n",
    "print(\"How I wonder what you are!\".rjust(40))\n",
    "print(\"Up above the world so high,.\".rjust(50))\n",
    "print(\"Like a diamond in the sky.\".rjust(48))\n",
    "print(\"Twinkle, twinkle, little star,\")\n",
    "print(\"How I wonder what you are\".rjust(38))\n"
   ]
  },
  {
   "cell_type": "code",
   "execution_count": 3,
   "id": "300f78ed",
   "metadata": {},
   "outputs": [
    {
     "name": "stdout",
     "output_type": "stream",
     "text": [
      "          I' tabbed in.\n",
      "   I' split \n",
      "   on a line \n",
      "   I'm \\ a \\ cat. \n",
      "\n",
      "   I' do a list : \n",
      "       * Cat food \n",
      "       * Fishies\n",
      "       * Catnip\n",
      "       * Grass\n"
     ]
    }
   ],
   "source": [
    "#BAI3\n",
    "print(\"I\\' tabbed in.\".rjust(23))\n",
    "print(\"   I\\' split \\n   on a line \\n   I\\'m \\\\ a \\\\ cat. \\n\\n   I\\' do a list : \\n       * Cat food \\n       * Fishies\\n       * Catnip\\n       * Grass\")"
   ]
  },
  {
   "cell_type": "code",
   "execution_count": 4,
   "id": "f8b7a9ff",
   "metadata": {},
   "outputs": [
    {
     "name": "stdout",
     "output_type": "stream",
     "text": [
      "The result:\n",
      "\n",
      "        Product: 1200 \n",
      "\n",
      "        Sum: 70\n"
     ]
    }
   ],
   "source": [
    "#BAI4\n",
    "number1 = 40\n",
    "number2 = 30\n",
    "print(\"The result:\\n\")\n",
    "print(\"        Product:\",number1 * number2, '\\n')\n",
    "print(\"        Sum:\",number1 + number2)"
   ]
  },
  {
   "cell_type": "code",
   "execution_count": 18,
   "id": "9f73c828",
   "metadata": {},
   "outputs": [
    {
     "name": "stdout",
     "output_type": "stream",
     "text": [
      "**************************************************\n",
      "               Coding Temple, Inc.                \n",
      "               283 Franklin ST.                   \n",
      "               Boston, MA                         \n",
      "==================================================\n",
      "      Product Name    Product Price\n",
      "      Books           $49.95\n",
      "      Computet        $579.99\n",
      "      Monitor         $49.95\n",
      "==================================================\n",
      "                     Total\n",
      "                     $754.83\n",
      "==================================================\n",
      "        Thanks for shoping with us today!         \n",
      "**************************************************\n"
     ]
    }
   ],
   "source": [
    "#BAI5\n",
    "print(\"\".rjust(50, \"*\"))\n",
    "print(\"Coding Temple, Inc.\".center(50))\n",
    "print(\"283 Franklin ST.   \".center(50))\n",
    "print(\"Boston, MA         \".center(50))\n",
    "print(\"\".rjust(50, \"=\"))\n",
    "print(''.rjust(5),\"Product Name \".ljust(15), \"Product Price\")\n",
    "print(''.rjust(5),\"Books\".ljust(15), \"$49.95\")\n",
    "print(''.rjust(5),\"Computet\".ljust(15), \"$579.99\")\n",
    "print(''.rjust(5),\"Monitor\".ljust(15), \"$49.95\")\n",
    "print(\"\".rjust(50, \"=\"))\n",
    "print(\"\".rjust(20), \"Total\")\n",
    "print(\"\".rjust(20), \"$754.83\")\n",
    "print(\"\".rjust(50, \"=\"))\n",
    "print(\"Thanks for shoping with us today!\".center(50))\n",
    "print(\"\".rjust(50, \"*\"))"
   ]
  },
  {
   "cell_type": "code",
   "execution_count": 19,
   "id": "bf7cb2f8",
   "metadata": {},
   "outputs": [
    {
     "name": "stdout",
     "output_type": "stream",
     "text": [
      "**************************************************\n",
      "*              Coding Temple, Inc.               *\n",
      "*              283 Franklin ST.                  *\n",
      "*              Boston, MA                        *\n",
      "==================================================\n",
      "*       Product Name   Product Price             *\n",
      "*       Books          $49.95                    *\n",
      "*       Computer       $579.99                   *\n",
      "*       Monitor        $49.95                    *\n",
      "==================================================\n",
      "*                      Total                     *\n",
      "*                      $754.83                   *\n",
      "==================================================\n",
      "*       Thanks for shoping with us today!        *\n",
      "**************************************************\n"
     ]
    }
   ],
   "source": [
    "#BAI6\n",
    "print(\"\".rjust(50, \"*\"))\n",
    "print('*',\"Coding Temple, Inc.\".center(46),'*')\n",
    "print('*',\"283 Franklin ST.   \".center(46),'*')\n",
    "print('*',\"Boston, MA         \".center(46),'*')\n",
    "print(\"\".rjust(50, \"=\"))\n",
    "print('*',\"Product Name  \".rjust(20), \"Product Price\",'*'.rjust(13))\n",
    "print('*',\"Books         \".rjust(20), \"$49.95       \",'*'.rjust(13))\n",
    "print('*',\"Computer      \".rjust(20), \"$579.99      \",'*'.rjust(13))\n",
    "print('*',\"Monitor       \".rjust(20), \"$49.95       \",'*'.rjust(13))\n",
    "print(\"\".rjust(50, \"=\"))\n",
    "print('*',\"\".rjust(20), \"Total\",'*'.rjust(21))\n",
    "print('*',\"\".rjust(20), \"$754.83\",'*'.rjust(19))\n",
    "print(\"\".rjust(50, \"=\"))\n",
    "print('*',\"Thanks for shoping with us today!\".center(46), '*')\n",
    "print(\"\".rjust(50, \"*\"))"
   ]
  },
  {
   "cell_type": "code",
   "execution_count": 20,
   "id": "62f0d330",
   "metadata": {},
   "outputs": [
    {
     "name": "stdout",
     "output_type": "stream",
     "text": [
      "169\n"
     ]
    }
   ],
   "source": [
    "#BAI7\n",
    "a = \"Twinkle, twinkle, little star, How I wonder what you are! Up above the world so high, Like a diamond in the sky. Twinkle, twinkle, little star, How I wonder what you are\" \n",
    "print(len(a))"
   ]
  },
  {
   "cell_type": "code",
   "execution_count": 21,
   "id": "8daf57ee",
   "metadata": {},
   "outputs": [
    {
     "name": "stdout",
     "output_type": "stream",
     "text": [
      "My**name**is**James\n"
     ]
    }
   ],
   "source": [
    "#BAI8\n",
    "print(\"My\", \"name\", \"is\", \"James\", sep = \"**\")"
   ]
  },
  {
   "cell_type": "code",
   "execution_count": 23,
   "id": "da1f2fc9",
   "metadata": {},
   "outputs": [
    {
     "name": "stdout",
     "output_type": "stream",
     "text": [
      "4867.345\n",
      "4867.35\n"
     ]
    }
   ],
   "source": [
    "#BAI9\n",
    "a = float(input())\n",
    "print(round(a, 2))"
   ]
  },
  {
   "cell_type": "code",
   "execution_count": 25,
   "id": "a4e971c6",
   "metadata": {},
   "outputs": [
    {
     "name": "stdout",
     "output_type": "stream",
     "text": [
      "Books Computers VKL\n",
      "23 45 36\n",
      "**************************************************\n",
      "               Coding Temple, Inc.                \n",
      "               283 Franklin ST.                   \n",
      "               Boston, MA                         \n",
      "==================================================\n",
      "      Product Name    Product Price\n",
      "      Books           $ 23\n",
      "      Computers       $ 45\n",
      "      VKL             $ 36\n",
      "==================================================\n",
      "                     Total\n",
      "                     104\n",
      "==================================================\n",
      "        Thanks for shoping with us today!         \n",
      "**************************************************\n"
     ]
    }
   ],
   "source": [
    "#BAI10\n",
    "ten1, ten2, ten3 = map(str, input().split())\n",
    "gia1, gia2, gia3 = map(int, input().split())\n",
    "print(\"\".rjust(50, \"*\"))\n",
    "print(\"Coding Temple, Inc.\".center(50))\n",
    "print(\"283 Franklin ST.   \".center(50))\n",
    "print(\"Boston, MA         \".center(50))\n",
    "print(\"\".rjust(50, \"=\"))\n",
    "print(''.rjust(5),\"Product Name \".ljust(15), \"Product Price\")\n",
    "print(''.rjust(5),ten1.ljust(15), '$',gia1)\n",
    "print(''.rjust(5),ten2.ljust(15), '$',gia2)\n",
    "print(''.rjust(5),ten3.ljust(15), '$',gia3)\n",
    "print(\"\".rjust(50, \"=\"))\n",
    "print(\"\".rjust(20), \"Total\")\n",
    "print(\"\".rjust(20), gia1 + gia2 + gia3)\n",
    "print(\"\".rjust(50, \"=\"))\n",
    "print(\"Thanks for shoping with us today!\".center(50))\n",
    "print(\"\".rjust(50, \"*\"))"
   ]
  },
  {
   "cell_type": "code",
   "execution_count": 1,
   "id": "c104d645",
   "metadata": {},
   "outputs": [
    {
     "name": "stdout",
     "output_type": "stream",
     "text": [
      "ok\n"
     ]
    }
   ],
   "source": [
    "#BAI11\n",
    "print(\"ok\")"
   ]
  },
  {
   "cell_type": "code",
   "execution_count": null,
   "id": "64fc9db7",
   "metadata": {},
   "outputs": [],
   "source": []
  }
 ],
 "metadata": {
  "kernelspec": {
   "display_name": "Python 3 (ipykernel)",
   "language": "python",
   "name": "python3"
  },
  "language_info": {
   "codemirror_mode": {
    "name": "ipython",
    "version": 3
   },
   "file_extension": ".py",
   "mimetype": "text/x-python",
   "name": "python",
   "nbconvert_exporter": "python",
   "pygments_lexer": "ipython3",
   "version": "3.11.3"
  }
 },
 "nbformat": 4,
 "nbformat_minor": 5
}

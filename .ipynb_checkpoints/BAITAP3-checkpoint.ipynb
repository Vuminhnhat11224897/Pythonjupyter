{
 "cells": [
  {
   "cell_type": "markdown",
   "id": "2f7ff85e",
   "metadata": {},
   "source": [
    "### Full name : Vũ Minh Nhật\n",
    "### Student ID : 11224897\n",
    "### Class: DSEB 64A\n"
   ]
  },
  {
   "cell_type": "code",
   "execution_count": 37,
   "id": "b1cc7702",
   "metadata": {},
   "outputs": [
    {
     "name": "stdout",
     "output_type": "stream",
     "text": [
      "          I' tabbed in.\n",
      "   I' split \n",
      "   on a line \n",
      "   I'm \\ a \\ cat. \n",
      "\n",
      "   I' do a list : \n",
      "       * Cat food \n",
      "       * Fishies\n",
      "       * Catnip\n",
      "       * Grass\n"
     ]
    }
   ],
   "source": [
    "print(\"I\\' tabbed in.\".rjust(23))\n",
    "print(\"   I\\' split \\n   on a line \\n   I\\'m \\\\ a \\\\ cat. \\n\\n   I\\' do a list : \\n       * Cat food \\n       * Fishies\\n       * Catnip\\n       * Grass\")"
   ]
  }
 ],
 "metadata": {
  "kernelspec": {
   "display_name": "Python 3 (ipykernel)",
   "language": "python",
   "name": "python3"
  },
  "language_info": {
   "codemirror_mode": {
    "name": "ipython",
    "version": 3
   },
   "file_extension": ".py",
   "mimetype": "text/x-python",
   "name": "python",
   "nbconvert_exporter": "python",
   "pygments_lexer": "ipython3",
   "version": "3.11.3"
  }
 },
 "nbformat": 4,
 "nbformat_minor": 5
}

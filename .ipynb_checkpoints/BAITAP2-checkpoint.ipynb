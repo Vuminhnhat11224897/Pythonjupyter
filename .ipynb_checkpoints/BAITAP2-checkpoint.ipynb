{
 "cells": [
  {
   "cell_type": "markdown",
   "id": "cdd46098",
   "metadata": {},
   "source": [
    "### Full name : Vũ Minh Nhật\n",
    "### Student ID : 11224897\n",
    "### Class: DSEB 64A\n"
   ]
  },
  {
   "cell_type": "code",
   "execution_count": 18,
   "id": "9b4dea80",
   "metadata": {},
   "outputs": [
    {
     "name": "stdout",
     "output_type": "stream",
     "text": [
      "Twinkle, twinkle, little star,\n",
      "\n",
      "             How I wonder what you are!\n",
      "\n",
      "                     Up above the world so high,\n",
      ".\n",
      "                     Like a diamond in the sky.\n",
      "\n",
      "Twinkle, twinkle, little star,\n",
      "\n",
      "              How I wonder what you are\n"
     ]
    }
   ],
   "source": [
    "print(\"Twinkle, twinkle, little star,\\n\")\n",
    "print(\"How I wonder what you are!\\n\".rjust(40))\n",
    "print(\"Up above the world so high,\\n.\".rjust(50))\n",
    "print(\"Like a diamond in the sky.\\n\".rjust(48))\n",
    "print(\"Twinkle, twinkle, little star,\\n\")\n",
    "print(\"How I wonder what you are\".rjust(39))"
   ]
  },
  {
   "cell_type": "code",
   "execution_count": null,
   "id": "3f61be78",
   "metadata": {},
   "outputs": [],
   "source": []
  }
 ],
 "metadata": {
  "kernelspec": {
   "display_name": "Python 3 (ipykernel)",
   "language": "python",
   "name": "python3"
  },
  "language_info": {
   "codemirror_mode": {
    "name": "ipython",
    "version": 3
   },
   "file_extension": ".py",
   "mimetype": "text/x-python",
   "name": "python",
   "nbconvert_exporter": "python",
   "pygments_lexer": "ipython3",
   "version": "3.11.3"
  }
 },
 "nbformat": 4,
 "nbformat_minor": 5
}

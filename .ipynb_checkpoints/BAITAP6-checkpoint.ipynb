{
 "cells": [
  {
   "cell_type": "code",
   "execution_count": 38,
   "id": "708ad433",
   "metadata": {
    "scrolled": true
   },
   "outputs": [
    {
     "name": "stdout",
     "output_type": "stream",
     "text": [
      "**************************************************\n",
      "*              Coding Temple, Inc.               *\n",
      "*              283 Franklin ST.                  *\n",
      "*              Boston, MA                        *\n",
      "==================================================\n",
      "*       Product Name   Product Price             *\n",
      "*       Books          $49.95                    *\n",
      "*       Computer       $579.99                   *\n",
      "*       Monitor        $49.95                    *\n",
      "==================================================\n",
      "*                      Total                     *\n",
      "*                      $754.83                   *\n",
      "==================================================\n",
      "*       Thanks for shoping with us today!        *\n",
      "**************************************************\n"
     ]
    }
   ],
   "source": [
    "print(\"\".rjust(50, \"*\"))\n",
    "print('*',\"Coding Temple, Inc.\".center(46),'*')\n",
    "print('*',\"283 Franklin ST.   \".center(46),'*')\n",
    "print('*',\"Boston, MA         \".center(46),'*')\n",
    "print(\"\".rjust(50, \"=\"))\n",
    "print('*',\"Product Name  \".rjust(20), \"Product Price\",'*'.rjust(13))\n",
    "print('*',\"Books         \".rjust(20), \"$49.95       \",'*'.rjust(13))\n",
    "print('*',\"Computer      \".rjust(20), \"$579.99      \",'*'.rjust(13))\n",
    "print('*',\"Monitor       \".rjust(20), \"$49.95       \",'*'.rjust(13))\n",
    "print(\"\".rjust(50, \"=\"))\n",
    "print('*',\"\".rjust(20), \"Total\",'*'.rjust(21))\n",
    "print('*',\"\".rjust(20), \"$754.83\",'*'.rjust(19))\n",
    "print(\"\".rjust(50, \"=\"))\n",
    "print('*',\"Thanks for shoping with us today!\".center(46), '*')\n",
    "print(\"\".rjust(50, \"*\"))"
   ]
  },
  {
   "cell_type": "code",
   "execution_count": null,
   "id": "49de4428",
   "metadata": {},
   "outputs": [],
   "source": []
  }
 ],
 "metadata": {
  "kernelspec": {
   "display_name": "Python 3 (ipykernel)",
   "language": "python",
   "name": "python3"
  },
  "language_info": {
   "codemirror_mode": {
    "name": "ipython",
    "version": 3
   },
   "file_extension": ".py",
   "mimetype": "text/x-python",
   "name": "python",
   "nbconvert_exporter": "python",
   "pygments_lexer": "ipython3",
   "version": "3.11.3"
  }
 },
 "nbformat": 4,
 "nbformat_minor": 5
}

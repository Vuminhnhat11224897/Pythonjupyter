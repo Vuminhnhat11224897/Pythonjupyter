{
 "cells": [
  {
   "cell_type": "code",
   "execution_count": 20,
   "id": "cd87cf6a",
   "metadata": {},
   "outputs": [
    {
     "name": "stdout",
     "output_type": "stream",
     "text": [
      "Books Computer Monitor\n",
      "2 3 4\n",
      "           Books           $ 2\n",
      "           Computer        $ 3\n",
      "           Computer        $ 4\n"
     ]
    }
   ],
   "source": [
    "a, b, c = map(str, input().split())\n",
    "price1, price2, price3 = map(int, input().split())\n",
    "print(''.rjust(10), a.ljust(15), '$',price1)\n",
    "print(''.rjust(10), b.ljust(15), '$',price2)\n",
    "print(''.rjust(10), b.ljust(15), '$',price3)\n"
   ]
  },
  {
   "cell_type": "markdown",
   "id": "69151818",
   "metadata": {},
   "source": []
  }
 ],
 "metadata": {
  "kernelspec": {
   "display_name": "Python 3 (ipykernel)",
   "language": "python",
   "name": "python3"
  },
  "language_info": {
   "codemirror_mode": {
    "name": "ipython",
    "version": 3
   },
   "file_extension": ".py",
   "mimetype": "text/x-python",
   "name": "python",
   "nbconvert_exporter": "python",
   "pygments_lexer": "ipython3",
   "version": "3.11.3"
  }
 },
 "nbformat": 4,
 "nbformat_minor": 5
}

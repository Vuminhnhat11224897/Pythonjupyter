{
 "cells": [
  {
   "cell_type": "markdown",
   "id": "f02ed2f7",
   "metadata": {},
   "source": [
    "### Full name : Vũ Minh Nhật\n",
    "### Student ID : 11224897\n",
    "### Class: DSEB 64A\n"
   ]
  },
  {
   "cell_type": "code",
   "execution_count": 24,
   "id": "108bdcf9",
   "metadata": {},
   "outputs": [
    {
     "name": "stdout",
     "output_type": "stream",
     "text": [
      "Twinkle, twinkle, little star,\n",
      "              How I wonder what you are!\n",
      "                      Up above the world so high,.\n",
      "                      Like a diamond in the sky.\n",
      "Twinkle, twinkle, little star,\n",
      "             How I wonder what you are\n"
     ]
    }
   ],
   "source": [
    "print(\"Twinkle, twinkle, little star,\")\n",
    "print(\"How I wonder what you are!\".rjust(40))\n",
    "print(\"Up above the world so high,.\".rjust(50))\n",
    "print(\"Like a diamond in the sky.\".rjust(48))\n",
    "print(\"Twinkle, twinkle, little star,\")\n",
    "print(\"How I wonder what you are\".rjust(38))"
   ]
  },
  {
   "cell_type": "code",
   "execution_count": null,
   "id": "38853e81",
   "metadata": {},
   "outputs": [],
   "source": []
  }
 ],
 "metadata": {
  "kernelspec": {
   "display_name": "Python 3 (ipykernel)",
   "language": "python",
   "name": "python3"
  },
  "language_info": {
   "codemirror_mode": {
    "name": "ipython",
    "version": 3
   },
   "file_extension": ".py",
   "mimetype": "text/x-python",
   "name": "python",
   "nbconvert_exporter": "python",
   "pygments_lexer": "ipython3",
   "version": "3.11.3"
  }
 },
 "nbformat": 4,
 "nbformat_minor": 5
}

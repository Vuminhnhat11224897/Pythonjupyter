{
 "cells": [
  {
   "cell_type": "markdown",
   "id": "7ca0e7e1",
   "metadata": {},
   "source": [
    "### Full name : Vũ Minh Nhật\n",
    "### Student ID : 11224897\n",
    "### Class: DSEB 64A\n"
   ]
  },
  {
   "cell_type": "code",
   "execution_count": 11,
   "id": "c2a7d3e6",
   "metadata": {
    "scrolled": true
   },
   "outputs": [
    {
     "ename": "NameError",
     "evalue": "name 'boder' is not defined",
     "output_type": "error",
     "traceback": [
      "\u001b[1;31m---------------------------------------------------------------------------\u001b[0m",
      "\u001b[1;31mNameError\u001b[0m                                 Traceback (most recent call last)",
      "Cell \u001b[1;32mIn[11], line 3\u001b[0m\n\u001b[0;32m      1\u001b[0m number1 \u001b[38;5;241m=\u001b[39m \u001b[38;5;241m40\u001b[39m\n\u001b[0;32m      2\u001b[0m number2 \u001b[38;5;241m=\u001b[39m \u001b[38;5;241m30\u001b[39m\n\u001b[1;32m----> 3\u001b[0m \u001b[38;5;28mprint\u001b[39m(\u001b[38;5;124m\"\u001b[39m\u001b[38;5;124mThe result:\u001b[39m\u001b[38;5;130;01m\\n\u001b[39;00m\u001b[38;5;124m\"\u001b[39m, boder(\u001b[38;5;241m10\u001b[39m, \u001b[38;5;241m10\u001b[39m))\n\u001b[0;32m      4\u001b[0m \u001b[38;5;28mprint\u001b[39m(\u001b[38;5;124m\"\u001b[39m\u001b[38;5;124m        Product:\u001b[39m\u001b[38;5;124m\"\u001b[39m,number1 \u001b[38;5;241m*\u001b[39m number2, \u001b[38;5;124m'\u001b[39m\u001b[38;5;130;01m\\n\u001b[39;00m\u001b[38;5;124m'\u001b[39m)\n\u001b[0;32m      5\u001b[0m \u001b[38;5;28mprint\u001b[39m(\u001b[38;5;124m\"\u001b[39m\u001b[38;5;124m        Sum:\u001b[39m\u001b[38;5;124m\"\u001b[39m,number1 \u001b[38;5;241m+\u001b[39m number2)\n",
      "\u001b[1;31mNameError\u001b[0m: name 'boder' is not defined"
     ]
    }
   ],
   "source": [
    "number1 = 40\n",
    "number2 = 30\n",
    "print(\"The result:\\n\", boder(10, 10))\n",
    "print(\"        Product:\",number1 * number2, '\\n')\n",
    "print(\"        Sum:\",number1 + number2)"
   ]
  },
  {
   "cell_type": "code",
   "execution_count": null,
   "id": "128ccc84",
   "metadata": {},
   "outputs": [],
   "source": []
  }
 ],
 "metadata": {
  "kernelspec": {
   "display_name": "Python 3 (ipykernel)",
   "language": "python",
   "name": "python3"
  },
  "language_info": {
   "codemirror_mode": {
    "name": "ipython",
    "version": 3
   },
   "file_extension": ".py",
   "mimetype": "text/x-python",
   "name": "python",
   "nbconvert_exporter": "python",
   "pygments_lexer": "ipython3",
   "version": "3.11.3"
  }
 },
 "nbformat": 4,
 "nbformat_minor": 5
}

{
 "cells": [
  {
   "cell_type": "markdown",
   "id": "7ca0e7e1",
   "metadata": {},
   "source": [
    "### Full name : Vũ Minh Nhật\n",
    "### Student ID : 11224897\n",
    "### Class: DSEB 64A\n"
   ]
  },
  {
   "cell_type": "code",
   "execution_count": 1,
   "id": "c2a7d3e6",
   "metadata": {
    "scrolled": true
   },
   "outputs": [
    {
     "name": "stdout",
     "output_type": "stream",
     "text": [
      "The result:\n",
      "\n",
      "        Product: 1200 \n",
      "\n",
      "        Sum: 70\n"
     ]
    }
   ],
   "source": [
    "number1 = 40\n",
    "number2 = 30\n",
    "print(\"The result:\\n\")\n",
    "print(\"        Product:\",number1 * number2, '\\n')\n",
    "print(\"        Sum:\",number1 + number2)"
   ]
  },
  {
   "cell_type": "code",
   "execution_count": null,
   "id": "180c34dc",
   "metadata": {},
   "outputs": [],
   "source": []
  }
 ],
 "metadata": {
  "kernelspec": {
   "display_name": "Python 3 (ipykernel)",
   "language": "python",
   "name": "python3"
  },
  "language_info": {
   "codemirror_mode": {
    "name": "ipython",
    "version": 3
   },
   "file_extension": ".py",
   "mimetype": "text/x-python",
   "name": "python",
   "nbconvert_exporter": "python",
   "pygments_lexer": "ipython3",
   "version": "3.11.3"
  }
 },
 "nbformat": 4,
 "nbformat_minor": 5
}

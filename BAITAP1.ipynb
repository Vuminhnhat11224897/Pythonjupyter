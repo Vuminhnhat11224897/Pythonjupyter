{
 "cells": [
  {
   "cell_type": "markdown",
   "id": "0bb2b48b",
   "metadata": {},
   "source": [
    "### Full name : Vũ Minh Nhật\n",
    "### Student ID : 11224897\n",
    "### Class: DSEB 64A"
   ]
  },
  {
   "cell_type": "code",
   "execution_count": null,
   "id": "35927450",
   "metadata": {},
   "outputs": [],
   "source": []
  }
 ],
 "metadata": {
  "kernelspec": {
   "display_name": "Python 3 (ipykernel)",
   "language": "python",
   "name": "python3"
  },
  "language_info": {
   "codemirror_mode": {
    "name": "ipython",
    "version": 3
   },
   "file_extension": ".py",
   "mimetype": "text/x-python",
   "name": "python",
   "nbconvert_exporter": "python",
   "pygments_lexer": "ipython3",
   "version": "3.11.3"
  }
 },
 "nbformat": 4,
 "nbformat_minor": 5
}

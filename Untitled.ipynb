{
 "cells": [
  {
   "cell_type": "code",
   "execution_count": 24,
   "id": "c63c6887",
   "metadata": {},
   "outputs": [
    {
     "ename": "NameError",
     "evalue": "name 'sothutu' is not defined",
     "output_type": "error",
     "traceback": [
      "\u001b[1;31m---------------------------------------------------------------------------\u001b[0m",
      "\u001b[1;31mNameError\u001b[0m                                 Traceback (most recent call last)",
      "Cell \u001b[1;32mIn[24], line 9\u001b[0m\n\u001b[0;32m      7\u001b[0m         \u001b[38;5;28mself\u001b[39m\u001b[38;5;241m.\u001b[39mstt \u001b[38;5;241m=\u001b[39m hocsinh\u001b[38;5;241m.\u001b[39msothutu \u001b[38;5;241m+\u001b[39m \u001b[38;5;241m1\u001b[39m\n\u001b[0;32m      8\u001b[0m         hocsinh\u001b[38;5;241m.\u001b[39msothutu \u001b[38;5;241m=\u001b[39m sothutu \u001b[38;5;241m+\u001b[39m \u001b[38;5;241m1\u001b[39m \n\u001b[1;32m----> 9\u001b[0m a \u001b[38;5;241m=\u001b[39m hocsinh(\u001b[38;5;124m'\u001b[39m\u001b[38;5;124mnhat\u001b[39m\u001b[38;5;124m'\u001b[39m, \u001b[38;5;241m19\u001b[39m, \u001b[38;5;124m'\u001b[39m\u001b[38;5;124mdseb\u001b[39m\u001b[38;5;124m'\u001b[39m)\n\u001b[0;32m     10\u001b[0m b \u001b[38;5;241m=\u001b[39m hocsinh(\u001b[38;5;124m'\u001b[39m\u001b[38;5;124mhieu\u001b[39m\u001b[38;5;124m'\u001b[39m, \u001b[38;5;241m19\u001b[39m, \u001b[38;5;124m'\u001b[39m\u001b[38;5;124mact\u001b[39m\u001b[38;5;124m'\u001b[39m)\n\u001b[0;32m     11\u001b[0m \u001b[38;5;28mprint\u001b[39m(a\u001b[38;5;241m.\u001b[39mstt)\n",
      "Cell \u001b[1;32mIn[24], line 8\u001b[0m, in \u001b[0;36mhocsinh.__init__\u001b[1;34m(self, ten, tuoi, lop)\u001b[0m\n\u001b[0;32m      6\u001b[0m \u001b[38;5;28mself\u001b[39m\u001b[38;5;241m.\u001b[39mage \u001b[38;5;241m=\u001b[39m tuoi\n\u001b[0;32m      7\u001b[0m \u001b[38;5;28mself\u001b[39m\u001b[38;5;241m.\u001b[39mstt \u001b[38;5;241m=\u001b[39m hocsinh\u001b[38;5;241m.\u001b[39msothutu \u001b[38;5;241m+\u001b[39m \u001b[38;5;241m1\u001b[39m\n\u001b[1;32m----> 8\u001b[0m hocsinh\u001b[38;5;241m.\u001b[39msothutu \u001b[38;5;241m=\u001b[39m sothutu \u001b[38;5;241m+\u001b[39m \u001b[38;5;241m1\u001b[39m\n",
      "\u001b[1;31mNameError\u001b[0m: name 'sothutu' is not defined"
     ]
    }
   ],
   "source": [
    "class hocsinh :\n",
    "    sothutu = 1\n",
    "    stt = 1\n",
    "    def __init__(self, ten, tuoi, lop) :\n",
    "        self.name = ten\n",
    "        self.age = tuoi\n",
    "        self.stt = hocsinh.sothutu + 1\n",
    "        hocsinh.sothutu = sothutu + 1 \n",
    "a = hocsinh('nhat', 19, 'dseb')\n",
    "b = hocsinh('hieu', 19, 'act')\n",
    "print(a.stt)\n",
    "print(b.stt)\n",
    "\n"
   ]
  },
  {
   "cell_type": "code",
   "execution_count": 17,
   "id": "329232dd",
   "metadata": {},
   "outputs": [
    {
     "name": "stdout",
     "output_type": "stream",
     "text": [
      "[0, 1, 4, 9, 16, 25, 36, 49, 64, 81]\n"
     ]
    }
   ],
   "source": [
    "a = []\n",
    "for i in range (10) :\n",
    "    a.append(i * i)\n",
    "print(a)"
   ]
  },
  {
   "cell_type": "code",
   "execution_count": null,
   "id": "0ff0bd86",
   "metadata": {},
   "outputs": [],
   "source": []
  }
 ],
 "metadata": {
  "kernelspec": {
   "display_name": "Python 3 (ipykernel)",
   "language": "python",
   "name": "python3"
  },
  "language_info": {
   "codemirror_mode": {
    "name": "ipython",
    "version": 3
   },
   "file_extension": ".py",
   "mimetype": "text/x-python",
   "name": "python",
   "nbconvert_exporter": "python",
   "pygments_lexer": "ipython3",
   "version": "3.11.3"
  }
 },
 "nbformat": 4,
 "nbformat_minor": 5
}
